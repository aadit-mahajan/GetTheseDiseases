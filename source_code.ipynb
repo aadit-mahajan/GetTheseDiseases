{
 "cells": [
  {
   "cell_type": "markdown",
   "metadata": {},
   "source": [
    "Project Idea     \n",
    "To identify disease pairs of inverse comorbidity using network analysis of disease-gene networks and disease function networks.    \n",
    "\n",
    "       \n",
    "Inverse Comorbidities       \n",
    "Comorbidities are a common phenomenon in many diseases. It refers to the presence of multiple diseases or medical conditions in a patient, often leading to a worse state of disease. However, it has been observed that inverse comorbidities also exist. This condition – when an unexpectedly low probability of a disease occurring in people with another disease is observed – is intriguing, as it may help us gain insight into the pathogenesis of certain diseases and allow us to understand the underlying mechanisms of certain unknown disease pathways.     \n",
    "\n",
    "The idea of the code is to find these inverse comorbidities by finding the pathways/functions lost in a particular genetic disorder and mapping their corresponding related diseases in the disease-gene network. \n",
    "\n",
    "\n"
   ]
  },
  {
   "cell_type": "code",
   "execution_count": 29,
   "metadata": {},
   "outputs": [],
   "source": [
    "import pandas as pd\n",
    "import networkx as nx\n",
    "from networkx.algorithms import bipartite\n",
    "\n",
    "disease_gene_data = pd.read_csv('DG-AssocMiner_miner-disease-gene-edited.tsv', sep='\\t')\n",
    "disease_func_data = pd.read_csv('DF-Miner_miner-disease-function.tsv', sep='\\t')\n",
    "gene_func_data = pd.read_csv('GF-Miner_miner-gene-function.tsv', sep='\\t')\n",
    "disease_data = pd.read_csv('D-MeshMiner_miner-disease.tsv', sep='\\t')\n",
    "\n",
    "disease_func_data['# MESH_ID'] = disease_func_data['# MESH_ID'].apply(lambda x: x.split(':')[1])\n",
    "disease_func_data['GO_ID'] = disease_func_data['GO_ID'].apply(lambda x: x.split(':')[1])\n"
   ]
  },
  {
   "cell_type": "code",
   "execution_count": 30,
   "metadata": {},
   "outputs": [
    {
     "data": {
      "text/plain": [
       "519"
      ]
     },
     "execution_count": 30,
     "metadata": {},
     "output_type": "execute_result"
    }
   ],
   "source": [
    "import json\n",
    "import requests as req\n",
    "disease_list = disease_gene_data['Disease Name'].unique()\n",
    "\n",
    "def get_mesh_id(disease):\n",
    "    url = 'id.nlm.nih.gov/mesh'\n",
    "    res = req.get(f'http://{url}/lookup/descriptor?label={disease}')\n",
    "    try:\n",
    "        mesh_id = json.loads(res.text)[0]['resource'].split('/')[-1]\n",
    "    except:\n",
    "        mesh_id = None\n",
    "    return mesh_id\n",
    "\n",
    "len(disease_list)\n"
   ]
  },
  {
   "cell_type": "code",
   "execution_count": 31,
   "metadata": {},
   "outputs": [
    {
     "data": {
      "text/plain": [
       "333"
      ]
     },
     "execution_count": 31,
     "metadata": {},
     "output_type": "execute_result"
    }
   ],
   "source": [
    "disease_id = 'D004314' \n",
    "DF_network = nx.from_pandas_edgelist(disease_func_data, '# MESH_ID', 'GO_ID')\n",
    "GF_network = nx.from_pandas_edgelist(gene_func_data, '# GO_ID', 'Gene')\n",
    "\n",
    "disease_func_list = list(DF_network.neighbors(disease_id))\n",
    "func_gene_list = []\n",
    "for func in disease_func_list:\n",
    "    func = 'GO:' + func\n",
    "    try:\n",
    "        func_gene_list += list(GF_network.neighbors(func))\n",
    "    except:\n",
    "        pass\n",
    "\n",
    "func_gene_list = list(set(func_gene_list))\n",
    "len(func_gene_list)"
   ]
  },
  {
   "cell_type": "code",
   "execution_count": 32,
   "metadata": {},
   "outputs": [],
   "source": [
    "gene_assoc_data = pd.read_csv('gene_associations.tsv', sep='\\t')\n",
    "gene_assoc_data = gene_assoc_data.iloc[:, [0, 1]]\n",
    "mapping = {}\n",
    "for row in gene_assoc_data.iterrows():\n",
    "    mapping[row[1][0]] = row[1][1]"
   ]
  },
  {
   "cell_type": "code",
   "execution_count": 33,
   "metadata": {},
   "outputs": [],
   "source": [
    "disease_gene_data['Gene_Name'] = disease_gene_data['Gene ID'].apply(lambda x: mapping[x] if x in mapping else None)\n",
    "disease_gene_data = disease_gene_data.dropna()\n",
    "# disease_gene_data.to_csv('DG-AssocMiner_miner-disease-gene-edited.tsv', sep='\\t')"
   ]
  },
  {
   "cell_type": "code",
   "execution_count": 34,
   "metadata": {},
   "outputs": [],
   "source": [
    "def get_GO_IDs(disease):\n",
    "    GO_list = list(DF_network.neighbors(disease))\n",
    "    return GO_list\n",
    "\n",
    "def get_genes(GO_ID):\n",
    "    func = 'GO:' + GO_ID\n",
    "    func_gene_list = []\n",
    "    try:\n",
    "        func_gene_list += list(GF_network.neighbors(func))\n",
    "    except:\n",
    "        pass\n",
    "    return func_gene_list\n"
   ]
  },
  {
   "cell_type": "code",
   "execution_count": 35,
   "metadata": {},
   "outputs": [],
   "source": [
    "GO_list = get_GO_IDs(disease_id)\n",
    "gene_list = []\n",
    "for entry in GO_list:\n",
    "    gene = get_genes(entry)\n",
    "    gene_list += gene\n",
    "\n",
    "gene_list = list(set(gene_list))\n"
   ]
  },
  {
   "cell_type": "code",
   "execution_count": 38,
   "metadata": {},
   "outputs": [
    {
     "data": {
      "text/plain": [
       "{'Drug Eruptions': 0.1453020437692167,\n",
       " 'Cleft Lip': 0.17160044242247172,\n",
       " 'Liver Cirrhosis, Alcoholic': 0.1025671459576776,\n",
       " 'Transient Ischemic Attack': 0.17948996201844816,\n",
       " 'Erectile dysfunction': 0.17948996201844816,\n",
       " 'Diabetic Neuropathies': 0.211048040402354,\n",
       " 'Leishmaniasis, Visceral': 0.1321528444425894,\n",
       " 'Sepsis': 0.120882102162623,\n",
       " 'Hypoglycemia': 0.2820537167661421,\n",
       " 'Hypertriglyceridemia': 0.12088210216262289,\n",
       " 'Adverse reaction to drug': 0.10731546793673759,\n",
       " 'Sarcoidosis': 0.17948996201844816,\n",
       " 'Cerebral Infarction': 0.17948996201844816,\n",
       " 'Neutropenia': 0.211048040402354,\n",
       " 'Anemia': 0.16429533168545646,\n",
       " 'Lewy Body Disease': 0.19028614672873173,\n",
       " 'Myeloid Leukemia, Chronic': 0.11422211808809742,\n",
       " 'Adenoma': 0.13461831931633197,\n",
       " 'Malignant neoplasm of ovary': 0.11111412551998545,\n",
       " 'Nephrosis': 0.1794899620184481,\n",
       " 'Mental disorders': 0.1608420066097765,\n",
       " 'Absence Epilepsy': 0.17948996201844816,\n",
       " 'Weight decreased': 0.37322149876409233,\n",
       " 'Thrombocytopenia': 0.24192007360400095,\n",
       " 'Cleft Palate': 0.10256714595767769,\n",
       " 'Huntington Disease': 0.3162416350153734,\n",
       " 'Cognition Disorders': 0.10814126306353056,\n",
       " 'Skin Abnormalities': 0.17948996201844816,\n",
       " 'Lymphoma': 0.12820808464460118,\n",
       " 'Male infertility': 0.13390607101947308,\n",
       " 'Gastrointestinal Diseases': 0.14530204376921677,\n",
       " 'Hyperinsulinism': 0.1025671459576776,\n",
       " 'Idiopathic generalized epilepsy': 0.12088210216262289,\n",
       " 'Lymphoma, Follicular': 0.20746189513145555,\n",
       " 'Depressive disorder': 0.11296212110102499,\n",
       " 'Renal Insufficiency': 0.2820537167661421,\n",
       " 'Pulmonary Embolism': 0.25408178365313466,\n",
       " 'Venous Thrombosis': 0.23077183939229512,\n",
       " 'Diarrhea': 0.17948996201844816,\n",
       " 'Marfan Syndrome': 0.17948996201844816,\n",
       " 'Vascular Diseases': 0.16666949267498632,\n",
       " 'Impaired glucose tolerance': 0.1321528444425894,\n",
       " 'Hypercalcemia': 0.3162416350153734,\n",
       " 'Neural Tube Defects': 0.16429533168545646,\n",
       " 'Necrotizing Enterocolitis': 0.15535731384252008,\n",
       " 'Sarcoma': 0.1321528444425894,\n",
       " 'Bronchial Hyperreactivity': 0.2899432363621186,\n",
       " 'Pneumoconiosis': 0.19414192698240443,\n",
       " 'Pulmonary Fibrosis': 0.14530204376921677,\n",
       " 'Hypothermia, natural': 0.14530204376921677,\n",
       " 'West Syndrome': 0.11111412551998545,\n",
       " 'Multiple Myeloma': 0.13215284444258935,\n",
       " 'Tachycardia, Ventricular': 0.17948996201844816,\n",
       " 'Intestinal Neoplasms': 0.1608420066097765,\n",
       " 'Diffuse Large B-Cell Lymphoma': 0.10931476140160494,\n",
       " 'Retinal Degeneration': 0.11111412551998545,\n",
       " 'Tonic-Clonic Epilepsy': 0.17948996201844816,\n",
       " 'Mesothelioma': 0.1244557521538318,\n",
       " 'Hepatitis B, Chronic': 0.11111412551998545,\n",
       " 'Thrombocythemia, Essential': 0.14530204376921677,\n",
       " 'MELAS Syndrome': 0.11111412551998545,\n",
       " 'Gliosis': 0.1025671459576776,\n",
       " 'Adenomatous Polyposis Coli': 0.17948996201844816,\n",
       " 'Ventricular Dysfunction, Left': 0.11111412551998545,\n",
       " 'Gestational Diabetes': 0.14530204376921677,\n",
       " 'Catalepsy': 0.11111412551998545,\n",
       " 'Down Syndrome': 0.11620594313157315,\n",
       " 'Eye Abnormalities': 0.1025671459576776,\n",
       " 'Hepatitis, Chronic': 0.1608420066097765,\n",
       " 'Chromosome Aberrations': 0.11111412551998545,\n",
       " 'Fever': 0.120882102162623,\n",
       " 'Nerve Degeneration': 0.12682208795882147,\n",
       " 'Tachycardia': 0.15535731384252008,\n",
       " 'Anemia, Hemolytic': 0.14530204376921677,\n",
       " 'Lymphoma, Non-Hodgkin': 0.1608420066097765,\n",
       " 'Ataxia, Spinocerebellar': 0.1025671459576776,\n",
       " 'Pulmonary Hypertension': 0.1025671459576776,\n",
       " 'Pain': 0.12393459486344718,\n",
       " 'Barrett Esophagus': 0.16666949267498632,\n",
       " 'Muscular Atrophy': 0.211048040402354,\n",
       " 'Edema': 0.1794899620184482}"
      ]
     },
     "metadata": {},
     "output_type": "display_data"
    },
    {
     "name": "stdout",
     "output_type": "stream",
     "text": [
      "81\n"
     ]
    }
   ],
   "source": [
    "eps = 0.1\n",
    "DG_network = nx.from_pandas_edgelist(disease_gene_data, 'Disease Name', 'Gene_Name')\n",
    "centralities = {}\n",
    "for gene in gene_list:\n",
    "    try:\n",
    "        centralities[gene] = nx.degree_centrality(DG_network)[gene]\n",
    "    except:\n",
    "        pass\n",
    "#  sort according to centrality\n",
    "sorted_centralities = sorted(centralities.items(), key=lambda x: x[1], reverse=True)\n",
    "nodes_removed = {}\n",
    "diseases = nx.bipartite.sets(DG_network)[0]\n",
    "init_cent = nx.degree_centrality(DG_network)\n",
    "for i in range(len(sorted_centralities)):\n",
    "    # print(sorted_centralities[i][0])\n",
    "    try:\n",
    "        DG_network.remove_node(sorted_centralities[i][0])\n",
    "    except:\n",
    "        continue\n",
    "new_cent = nx.degree_centrality(DG_network)\n",
    "# print(new_cent)\n",
    "for disease in diseases:\n",
    "    relative_change = abs(new_cent[disease] - init_cent[disease]) / init_cent[disease]\n",
    "    # print(relative_change)\n",
    "    if relative_change > eps:\n",
    "        nodes_removed[disease] = relative_change\n",
    "init_cent = new_cent\n",
    "\n",
    "display(nodes_removed)\n",
    "print(len(nodes_removed))\n",
    "\n"
   ]
  },
  {
   "cell_type": "code",
   "execution_count": null,
   "metadata": {},
   "outputs": [],
   "source": []
  }
 ],
 "metadata": {
  "kernelspec": {
   "display_name": "Python 3",
   "language": "python",
   "name": "python3"
  },
  "language_info": {
   "codemirror_mode": {
    "name": "ipython",
    "version": 3
   },
   "file_extension": ".py",
   "mimetype": "text/x-python",
   "name": "python",
   "nbconvert_exporter": "python",
   "pygments_lexer": "ipython3",
   "version": "3.11.4"
  }
 },
 "nbformat": 4,
 "nbformat_minor": 2
}
