{
 "cells": [
  {
   "cell_type": "markdown",
   "metadata": {},
   "source": [
    "Project Idea     \n",
    "To identify disease pairs of inverse comorbidity using network analysis of disease-gene networks and disease function networks.    \n",
    "\n",
    "       \n",
    "Inverse Comorbidities       \n",
    "Comorbidities are a common phenomenon in many diseases. It refers to the presence of multiple diseases or medical conditions in a patient, often leading to a worse state of disease. However, it has been observed that inverse comorbidities also exist. This condition – when an unexpectedly low probability of a disease occurring in people with another disease is observed – is intriguing, as it may help us gain insight into the pathogenesis of certain diseases and allow us to understand the underlying mechanisms of certain unknown disease pathways.     \n",
    "\n",
    "The idea of the code is to find these inverse comorbidities by finding the pathways/functions lost in a particular genetic disorder and mapping their corresponding related diseases in the disease-gene network. \n",
    "\n",
    "\n"
   ]
  },
  {
   "cell_type": "code",
   "execution_count": 1,
   "metadata": {},
   "outputs": [],
   "source": [
    "import pandas as pd\n",
    "import networkx as nx\n",
    "from networkx.algorithms import bipartite\n",
    "\n",
    "disease_gene_data = pd.read_csv('DG-AssocMiner_miner-disease-gene-edited.tsv', sep='\\t')\n",
    "disease_func_data = pd.read_csv('DF-Miner_miner-disease-function.tsv', sep='\\t')\n",
    "gene_func_data = pd.read_csv('GF-Miner_miner-gene-function.tsv', sep='\\t')\n",
    "disease_data = pd.read_csv('D-MeshMiner_miner-disease.tsv', sep='\\t')\n",
    "\n",
    "disease_func_data['# MESH_ID'] = disease_func_data['# MESH_ID'].apply(lambda x: x.split(':')[1])\n",
    "disease_func_data['GO_ID'] = disease_func_data['GO_ID'].apply(lambda x: x.split(':')[1])\n"
   ]
  },
  {
   "cell_type": "code",
   "execution_count": 2,
   "metadata": {},
   "outputs": [
    {
     "data": {
      "text/plain": [
       "519"
      ]
     },
     "execution_count": 2,
     "metadata": {},
     "output_type": "execute_result"
    }
   ],
   "source": [
    "import json\n",
    "import requests as req\n",
    "disease_list = disease_gene_data['Disease Name'].unique()\n",
    "\n",
    "def get_mesh_id(disease):\n",
    "    url = 'id.nlm.nih.gov/mesh'\n",
    "    res = req.get(f'http://{url}/lookup/descriptor?label={disease}')\n",
    "    try:\n",
    "        mesh_id = json.loads(res.text)[0]['resource'].split('/')[-1]\n",
    "    except:\n",
    "        mesh_id = None\n",
    "    return mesh_id\n",
    "\n",
    "len(disease_list)\n"
   ]
  },
  {
   "cell_type": "code",
   "execution_count": 11,
   "metadata": {},
   "outputs": [
    {
     "data": {
      "text/plain": [
       "260"
      ]
     },
     "execution_count": 11,
     "metadata": {},
     "output_type": "execute_result"
    }
   ],
   "source": [
    "sca_id = 'D000755'\n",
    "DF_network = nx.from_pandas_edgelist(disease_func_data, '# MESH_ID', 'GO_ID')\n",
    "GF_network = nx.from_pandas_edgelist(gene_func_data, '# GO_ID', 'Gene')\n",
    "\n",
    "sca_func_list = list(DF_network.neighbors(sca_id))\n",
    "func_gene_list = []\n",
    "for func in sca_func_list:\n",
    "    func = 'GO:' + func\n",
    "    try:\n",
    "        func_gene_list += list(GF_network.neighbors(func))\n",
    "    except:\n",
    "        pass\n",
    "\n",
    "func_gene_list = list(set(func_gene_list))\n",
    "len(func_gene_list)"
   ]
  },
  {
   "cell_type": "code",
   "execution_count": 12,
   "metadata": {},
   "outputs": [],
   "source": [
    "gene_assoc_data = pd.read_csv('gene_associations.tsv', sep='\\t')\n",
    "gene_assoc_data = gene_assoc_data.iloc[:, [0, 1]]\n",
    "mapping = {}\n",
    "for row in gene_assoc_data.iterrows():\n",
    "    mapping[row[1][0]] = row[1][1]"
   ]
  },
  {
   "cell_type": "code",
   "execution_count": 13,
   "metadata": {},
   "outputs": [],
   "source": [
    "disease_gene_data['Gene_Name'] = disease_gene_data['Gene ID'].apply(lambda x: mapping[x] if x in mapping else None)\n",
    "disease_gene_data = disease_gene_data.dropna()\n",
    "# disease_gene_data.to_csv('DG-AssocMiner_miner-disease-gene-edited.tsv', sep='\\t')"
   ]
  },
  {
   "cell_type": "code",
   "execution_count": 14,
   "metadata": {},
   "outputs": [],
   "source": [
    "def get_GO_IDs(disease):\n",
    "    GO_list = list(DF_network.neighbors(disease))\n",
    "    return GO_list\n",
    "\n",
    "def get_genes(GO_ID):\n",
    "    func = 'GO:' + GO_ID\n",
    "    func_gene_list = []\n",
    "    try:\n",
    "        func_gene_list += list(GF_network.neighbors(func))\n",
    "    except:\n",
    "        pass\n",
    "    return func_gene_list\n"
   ]
  },
  {
   "cell_type": "code",
   "execution_count": 15,
   "metadata": {},
   "outputs": [],
   "source": [
    "GO_list = get_GO_IDs(sca_id)\n",
    "gene_list = []\n",
    "for entry in GO_list:\n",
    "    gene = get_genes(entry)\n",
    "    gene_list += gene\n",
    "\n",
    "gene_list = list(set(gene_list))\n"
   ]
  },
  {
   "cell_type": "code",
   "execution_count": 25,
   "metadata": {},
   "outputs": [
    {
     "name": "stdout",
     "output_type": "stream",
     "text": [
      "0.11099351766106634\n",
      "0.11099347097229578\n",
      "0.11099345540113242\n",
      "0.12488418266048973\n",
      "0.12488418266048973\n",
      "0.12488416732856765\n",
      "['Hypoglycemia', 'Renal Insufficiency', 'Diabetic Cardiomyopathies', 'Hypoglycemia', 'Renal Insufficiency', 'Diabetic Cardiomyopathies']\n",
      "6\n"
     ]
    }
   ],
   "source": [
    "import numpy as np\n",
    "eps = 0.1\n",
    "DG_network = nx.from_pandas_edgelist(disease_gene_data, 'Disease Name', 'Gene_Name')\n",
    "centralities = {}\n",
    "for gene in gene_list:\n",
    "    try:\n",
    "        centralities[gene] = nx.degree_centrality(DG_network)[gene]\n",
    "    except:\n",
    "        pass\n",
    "#  sort according to centrality\n",
    "sorted_centralities = sorted(centralities.items(), key=lambda x: x[1], reverse=True)\n",
    "nodes_removed = []\n",
    "diseases = nx.bipartite.sets(DG_network)[0]\n",
    "init_cent = nx.degree_centrality(DG_network)\n",
    "for i in range(10):\n",
    "    # print(sorted_centralities[i][0])\n",
    "    try:\n",
    "        DG_network.remove_node(sorted_centralities[i][0])\n",
    "    except:\n",
    "        continue\n",
    "    new_cent = nx.degree_centrality(DG_network)\n",
    "    # print(new_cent)\n",
    "    for disease in diseases:\n",
    "        relative_change = abs(new_cent[disease] - init_cent[disease]) / init_cent[disease]\n",
    "        # print(relative_change)\n",
    "        if relative_change > eps:\n",
    "            nodes_removed.append(disease)\n",
    "            print(relative_change)\n",
    "    init_cent = new_cent\n",
    "\n",
    "print(nodes_removed)\n",
    "print(len(nodes_removed))\n",
    "\n"
   ]
  },
  {
   "cell_type": "code",
   "execution_count": null,
   "metadata": {},
   "outputs": [],
   "source": []
  }
 ],
 "metadata": {
  "kernelspec": {
   "display_name": "Python 3",
   "language": "python",
   "name": "python3"
  },
  "language_info": {
   "codemirror_mode": {
    "name": "ipython",
    "version": 3
   },
   "file_extension": ".py",
   "mimetype": "text/x-python",
   "name": "python",
   "nbconvert_exporter": "python",
   "pygments_lexer": "ipython3",
   "version": "3.11.4"
  }
 },
 "nbformat": 4,
 "nbformat_minor": 2
}
