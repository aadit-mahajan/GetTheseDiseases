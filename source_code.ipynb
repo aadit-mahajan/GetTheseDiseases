{
 "cells": [
  {
   "cell_type": "markdown",
   "metadata": {},
   "source": [
    "Project Idea     \n",
    "To identify disease pairs of inverse comorbidity using network analysis of disease-gene networks and disease function networks.    \n",
    "\n",
    "       \n",
    "Inverse Comorbidities       \n",
    "Comorbidities are a common phenomenon in many diseases. It refers to the presence of multiple diseases or medical conditions in a patient, often leading to a worse state of disease. However, it has been observed that inverse comorbidities also exist. This condition – when an unexpectedly low probability of a disease occurring in people with another disease is observed – is intriguing, as it may help us gain insight into the pathogenesis of certain diseases and allow us to understand the underlying mechanisms of certain unknown disease pathways.     \n",
    "\n",
    "The idea of the code is to find these inverse comorbidities by finding the pathways/functions lost in a particular genetic disorder and mapping their corresponding related diseases in the disease-gene network. \n",
    "\n",
    "\n"
   ]
  },
  {
   "cell_type": "code",
   "execution_count": 17,
   "metadata": {},
   "outputs": [],
   "source": [
    "import pandas as pd\n",
    "import networkx as nx\n",
    "from networkx.algorithms import bipartite\n",
    "\n",
    "disease_gene_data = pd.read_csv('DG-AssocMiner_miner-disease-gene.tsv', sep='\\t')\n",
    "disease_func_data = pd.read_csv('DF-Miner_miner-disease-function.tsv', sep='\\t')\n",
    "gene_func_data = pd.read_csv('GF-Miner_miner-gene-function.tsv', sep='\\t')\n",
    "disease_data = pd.read_csv('D-MeshMiner_miner-disease.tsv', sep='\\t')\n",
    "\n",
    "disease_func_data['# MESH_ID'] = disease_func_data['# MESH_ID'].apply(lambda x: x.split(':')[1])\n",
    "disease_func_data['GO_ID'] = disease_func_data['GO_ID'].apply(lambda x: x.split(':')[1])\n",
    "\n",
    "DF_network = nx.from_pandas_edgelist(disease_func_data, source='# MESH_ID', target='GO_ID')\n",
    "DG_network = nx.from_pandas_edgelist(disease_gene_data, source='# Disease ID', target='Gene ID')\n",
    "GF_network = nx.from_pandas_edgelist(gene_func_data, source='# GO_ID', target='C9')"
   ]
  },
  {
   "cell_type": "code",
   "execution_count": null,
   "metadata": {},
   "outputs": [],
   "source": []
  },
  {
   "cell_type": "code",
   "execution_count": 18,
   "metadata": {},
   "outputs": [
    {
     "data": {
      "text/html": [
       "<div>\n",
       "<style scoped>\n",
       "    .dataframe tbody tr th:only-of-type {\n",
       "        vertical-align: middle;\n",
       "    }\n",
       "\n",
       "    .dataframe tbody tr th {\n",
       "        vertical-align: top;\n",
       "    }\n",
       "\n",
       "    .dataframe thead th {\n",
       "        text-align: right;\n",
       "    }\n",
       "</style>\n",
       "<table border=\"1\" class=\"dataframe\">\n",
       "  <thead>\n",
       "    <tr style=\"text-align: right;\">\n",
       "      <th></th>\n",
       "      <th># MESH_ID</th>\n",
       "      <th>GO_ID</th>\n",
       "    </tr>\n",
       "  </thead>\n",
       "  <tbody>\n",
       "    <tr>\n",
       "      <th>0</th>\n",
       "      <td>D000037</td>\n",
       "      <td>0009257</td>\n",
       "    </tr>\n",
       "    <tr>\n",
       "      <th>1</th>\n",
       "      <td>C536409</td>\n",
       "      <td>0009257</td>\n",
       "    </tr>\n",
       "    <tr>\n",
       "      <th>2</th>\n",
       "      <td>D009436</td>\n",
       "      <td>0009257</td>\n",
       "    </tr>\n",
       "    <tr>\n",
       "      <th>3</th>\n",
       "      <td>D000860</td>\n",
       "      <td>0009258</td>\n",
       "    </tr>\n",
       "    <tr>\n",
       "      <th>4</th>\n",
       "      <td>D008106</td>\n",
       "      <td>0009258</td>\n",
       "    </tr>\n",
       "    <tr>\n",
       "      <th>...</th>\n",
       "      <td>...</td>\n",
       "      <td>...</td>\n",
       "    </tr>\n",
       "    <tr>\n",
       "      <th>802755</th>\n",
       "      <td>D011225</td>\n",
       "      <td>0035375</td>\n",
       "    </tr>\n",
       "    <tr>\n",
       "      <th>802756</th>\n",
       "      <td>D011471</td>\n",
       "      <td>0035375</td>\n",
       "    </tr>\n",
       "    <tr>\n",
       "      <th>802757</th>\n",
       "      <td>D012130</td>\n",
       "      <td>0035375</td>\n",
       "    </tr>\n",
       "    <tr>\n",
       "      <th>802758</th>\n",
       "      <td>D013274</td>\n",
       "      <td>0035375</td>\n",
       "    </tr>\n",
       "    <tr>\n",
       "      <th>802759</th>\n",
       "      <td>D013927</td>\n",
       "      <td>0035375</td>\n",
       "    </tr>\n",
       "  </tbody>\n",
       "</table>\n",
       "<p>802760 rows × 2 columns</p>\n",
       "</div>"
      ],
      "text/plain": [
       "       # MESH_ID    GO_ID\n",
       "0        D000037  0009257\n",
       "1        C536409  0009257\n",
       "2        D009436  0009257\n",
       "3        D000860  0009258\n",
       "4        D008106  0009258\n",
       "...          ...      ...\n",
       "802755   D011225  0035375\n",
       "802756   D011471  0035375\n",
       "802757   D012130  0035375\n",
       "802758   D013274  0035375\n",
       "802759   D013927  0035375\n",
       "\n",
       "[802760 rows x 2 columns]"
      ]
     },
     "execution_count": 18,
     "metadata": {},
     "output_type": "execute_result"
    }
   ],
   "source": []
  },
  {
   "cell_type": "code",
   "execution_count": 19,
   "metadata": {},
   "outputs": [],
   "source": [
    "def get_disease_genes(disease_id):\n",
    "    return list(DG_network.neighbors(disease_id))\n",
    "\n",
    "def get_disease_functions(disease_id):\n",
    "    return list(DF_network.neighbors(disease_id))\n",
    "\n",
    "def get_gene_functions(gene_id):\n",
    "    return list(GF_network.neighbors(gene_id))\n",
    "\n",
    "def get_disease_gene_functions(disease_id):\n",
    "    genes = get_disease_genes(disease_id)\n",
    "    gene_functions = {}\n",
    "    for gene in genes:\n",
    "        gene_functions[gene] = get_gene_functions(gene)\n",
    "    return gene_functions\n"
   ]
  },
  {
   "cell_type": "code",
   "execution_count": 24,
   "metadata": {},
   "outputs": [
    {
     "data": {
      "text/plain": [
       "(519, 7294)"
      ]
     },
     "execution_count": 24,
     "metadata": {},
     "output_type": "execute_result"
    }
   ],
   "source": [
    "disease_IDs, gene_IDs = bipartite.sets(DG_network)\n",
    "len(disease_IDs), len(gene_IDs)\n",
    "\n"
   ]
  },
  {
   "cell_type": "code",
   "execution_count": null,
   "metadata": {},
   "outputs": [],
   "source": []
  }
 ],
 "metadata": {
  "kernelspec": {
   "display_name": "Python 3",
   "language": "python",
   "name": "python3"
  },
  "language_info": {
   "codemirror_mode": {
    "name": "ipython",
    "version": 3
   },
   "file_extension": ".py",
   "mimetype": "text/x-python",
   "name": "python",
   "nbconvert_exporter": "python",
   "pygments_lexer": "ipython3",
   "version": "3.11.4"
  }
 },
 "nbformat": 4,
 "nbformat_minor": 2
}
