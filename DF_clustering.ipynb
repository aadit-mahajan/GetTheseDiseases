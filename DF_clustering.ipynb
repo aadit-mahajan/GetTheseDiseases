{
 "cells": [
  {
   "cell_type": "code",
   "execution_count": null,
   "metadata": {},
   "outputs": [],
   "source": [
    "import networkx as nx\n",
    "import pandas as pd\n",
    "from networkx.algorithms import bipartite\n",
    "\n",
    "data = pd.read_csv('DF-Miner_miner-disease-function.tsv', sep='\\t')\n",
    "DF_graph = nx.Graph()\n",
    "edgedata = list(zip(data['# MESH_ID'], data['GO_ID']))\n",
    "disease_nodes = list(data['# MESH_ID'])\n",
    "function_nodes = list(data['GO_ID'])\n",
    "DF_graph.add_edges_from(edgedata)\n",
    "DF_graph.nodes"
   ]
  },
  {
   "cell_type": "code",
   "execution_count": null,
   "metadata": {},
   "outputs": [],
   "source": [
    "from itertools import combinations\n",
    "def get_edge_wt_projection(graph, nodes):\n",
    "    wt_prj = nx.Graph()\n",
    "    combs = combinations(nodes, 2)\n",
    "    prj = nx.bipartite.projected_graph(graph, nodes)\n",
    "\n",
    "    for comb in combs:\n",
    "        if comb in prj.edges:\n",
    "            if comb in wt_prj.edges:\n",
    "                wt_prj[comb[0]][comb[1]]['weight'] += 1\n",
    "            else:\n",
    "                wt_prj.add_edge(comb[0], comb[1], weight = 1)\n",
    "        else:\n",
    "            continue\n",
    "    \n",
    "    # count how many nodes are common between the neighbourhoods of the two nodes\n",
    "    return wt_prj\n",
    "\n",
    "disease_projection = get_edge_wt_projection(DG_graph, disease_nodes)\n",
    "function_projection = get_edge_wt_projection(DG_graph, gene_nodes)\n"
   ]
  },
  {
   "cell_type": "code",
   "execution_count": null,
   "metadata": {},
   "outputs": [],
   "source": [
    "prj = nx.projected_graph(DG_graph, disease_nodes, multigraph = True)\n",
    "prj.edges(data = True)"
   ]
  },
  {
   "cell_type": "code",
   "execution_count": null,
   "metadata": {},
   "outputs": [],
   "source": [
    "# sort the edges according to the weights\n",
    "sortededges = sorted(disease_projection.edges(data = True), key = lambda x: x[2]['weight'])\n",
    "top5 = sortededges[:5]\n",
    "top5"
   ]
  },
  {
   "cell_type": "code",
   "execution_count": null,
   "metadata": {},
   "outputs": [],
   "source": [
    "# find the inverse comorbidity relations\n",
    "bottom5 = sortededges[-10:]\n",
    "bottom5\n",
    "\n",
    "# this has a lot of diseases that are not completely of genetic origin\n",
    "# we need to filter out those diseases that are purely genetic in origin and the remaining ones will be the ones that are genetically inversely comorbid"
   ]
  }
 ],
 "metadata": {
  "language_info": {
   "name": "python"
  }
 },
 "nbformat": 4,
 "nbformat_minor": 2
}
