{
 "cells": [
  {
   "cell_type": "code",
   "execution_count": 13,
   "metadata": {},
   "outputs": [],
   "source": [
    "import networkx as nx\n",
    "import pandas as pd\n",
    "\n",
    "# reading in all the data\n",
    "data = pd.read_csv('DG-AssocMiner_miner-disease-gene-edited.tsv', sep='\\t')\n",
    "dg_edgedata = list(zip(data['# Disease ID'], data['Gene_Name']))            # edge list\n",
    "disease_nodes = list(set(data['# Disease ID']))                             # disease node list\n",
    "gene_nodes = list(data['Gene_Name'])                                        # gene node list\n"
   ]
  },
  {
   "cell_type": "markdown",
   "metadata": {},
   "source": [
    "\n",
    "Reducing the search space using the data from the Gene-Function network.      \n",
    "This can be used to remove all the ubiquitous genes as their deletions are more likely to be fatal as compared to the other genes.       \n",
    "(which also means that they cannot become diseases)\n",
    "This threshold is debatable, currently set to 0.0005      \n"
   ]
  },
  {
   "cell_type": "code",
   "execution_count": 14,
   "metadata": {},
   "outputs": [
    {
     "name": "stdout",
     "output_type": "stream",
     "text": [
      "['NRP1', 'FGF10', 'BMP4', 'LGALS9', 'TLR4', 'CITED2', 'SOD2', 'PARK2', 'DMD', 'TGFB1', 'CD24', 'CTNNB1', 'APOE', 'DLL1', 'FGF2', 'TNF', 'PTPN22', 'PPP1R9B', 'SLC9A3R1', 'AGT', 'WNT5A', 'TSPO', 'MYD88', 'GATA3', 'WNT7A', 'OGT', 'PARK7', 'FSHR', 'TERT', 'NOTCH1', 'GHR', 'CCL21', 'KLF4', 'PPP1R15A', 'SHH', 'MEN1', 'GREM1', 'APOA1', 'EDN1', 'HMGA2', 'SNAI2', 'ACTN3', 'FOXP1', 'SNCA', 'ADA', 'JAK2', 'CRH', 'HMGB1', 'SLC11A2', 'EHD1', 'CYR61', 'BCL2L11', 'LRP6', 'IL4', 'LYN', 'GJA5', 'CCL5', 'MTOR', 'ABCA1', 'ITGB1BP1', 'RAPGEF3', 'IL1B', 'DRD2', 'SHTN1', 'INS', 'GLI3', 'PDE2A', 'DDX3X', 'DVL1', 'AQP9', 'TCF21', 'SLC25A17', 'KDM1A', 'ITGB1', 'BCL2', 'SRF', 'PTPN2', 'AQP1', 'PTGER4', 'SOX9', 'AK9', 'SCN5A', 'EHMT2', 'IRG1', 'DNM1L', 'TLR3', 'PDGFRB', 'PIK3CD', 'NFIB', 'TOR1A', 'TNFSF11', 'CASQ2', 'AXIN1', 'TCAP', 'SLIT2', 'SERPINA5', 'ADRB2', 'CCR7', 'LHX1', 'PCDH15', 'ATM', 'GSN', 'CACNA1G', 'FASN', 'CNOT1', 'BMPR1B', 'CASR', 'HNF1A', 'WNT10B', 'TBX3', 'DKK1', 'SIX3', 'ANXA1', 'WNT1', 'TNFAIP3', 'AKR1C3', 'UHRF1', 'FGA', 'SH3GLB1', 'SYNJ1', 'IL6', 'NR1H3', 'SGK1', 'WASL', 'CACNA1A', 'WNT9B', 'SMAD7', 'ALOX15B', 'TBX1', 'TLR2', 'ERN1', 'FLOT1', 'NUDT3', 'WNT11', 'ABL1', 'PDGFB', 'OXT', 'IGF1', 'ERCC1', 'TPR', 'BMP2', 'SLC11A1', 'CYP4F2', 'HES1', 'OSR1', 'PPARGC1A']\n",
      "before pruning 21086\n",
      "after pruning 19725\n"
     ]
    }
   ],
   "source": [
    "# pruning the gene search space\n",
    "\n",
    "gene_function_data = pd.read_csv('GF-Miner_miner-gene-function.tsv', sep = '\\t')\n",
    "gf_edgedata = list(zip(gene_function_data['# GO_ID'], gene_function_data['Gene']))\n",
    "gf_graph = nx.Graph()\n",
    "gf_graph.add_edges_from(gf_edgedata)\n",
    "deg_cents_gf = nx.degree_centrality(gf_graph)\n",
    "gene_nodes_gf = list(set(gene_function_data['Gene']))\n",
    "\n",
    "gene_cents = [(i, deg_cents_gf[i]) for i in deg_cents_gf.keys() if i in gene_nodes_gf]\n",
    "gene_cents = sorted(gene_cents, key=lambda x: x[1], reverse = True)\n",
    "\n",
    "ignore_thr = 0.0005\n",
    "ign_genes = [i[0] for i in gene_cents if i[1] > ignore_thr]      # removing all nodes with higher degree centralities\n",
    "\n",
    "print(ign_genes)\n",
    "\n",
    "gene_nodes_gf = [i for i in gene_nodes_gf if i not in ign_genes]    \n",
    "\n",
    "print('before pruning',len(dg_edgedata))\n",
    "dg_edgedata = [i for i in dg_edgedata if i[1] not in ign_genes]\n",
    "print('after pruning',len(dg_edgedata))"
   ]
  },
  {
   "cell_type": "code",
   "execution_count": 15,
   "metadata": {},
   "outputs": [],
   "source": [
    "# making the disease gene association network\n",
    "\n",
    "DG_graph = nx.Graph()\n",
    "DG_graph.add_edges_from(dg_edgedata)\n",
    "# DG_graph.nodes"
   ]
  },
  {
   "cell_type": "code",
   "execution_count": 16,
   "metadata": {},
   "outputs": [],
   "source": [
    "# function for getting a weighted projection of the disease gene association network. \n",
    "# this will give a specific network of disease nodes with edge weights being the number of genes shared between them \n",
    "\n",
    "from itertools import combinations\n",
    "def get_edge_wt_projection(graph, nodes):\n",
    "    \n",
    "    nodes = list(set(nodes))\n",
    "    wt_prj = nx.Graph()\n",
    "    combs = combinations(nodes, 2)\n",
    "    prj = nx.bipartite.projected_graph(graph, nodes)\n",
    "    wt_prj.edges.data('weight', default=1)\n",
    "    for comb in combs:\n",
    "        if comb in prj.edges:\n",
    "            # count how many nodes are common between the neighbourhoods of the two nodes\n",
    "            n1 = set(list(DG_graph.neighbors(comb[0])))\n",
    "            n2 = set(list(DG_graph.neighbors(comb[1])))\n",
    "            intrsct = n1.intersection(n2)\n",
    "            wt_prj.add_edge(comb[0], comb[1], weight=len(intrsct))     # add weighted edge to the graph \n",
    "    \n",
    "    return wt_prj\n",
    "\n",
    "disease_projection = get_edge_wt_projection(DG_graph, disease_nodes)"
   ]
  },
  {
   "cell_type": "code",
   "execution_count": 17,
   "metadata": {},
   "outputs": [],
   "source": [
    "# finding eigenvector centralities of the nodes\n",
    "disease_ev_cents = (nx.eigenvector_centrality(disease_projection, max_iter=1000)).items()\n",
    "\n",
    "# finding degree centralities of the nodes \n",
    "disease_dg_cents = (nx.degree_centrality(disease_projection)).items()"
   ]
  },
  {
   "cell_type": "markdown",
   "metadata": {},
   "source": [
    "eigenvector centrality is not really useful as it doesn't take into account the importance of the connections between two nodes. (information regarding edge weights not being used)\n",
    "\n",
    "Vertex strength is a better parameter. \n",
    "\n",
    "vertex strength is defined as degree times the weight of edges incident on the node. \n",
    "\n",
    "(reference: https://doi.org/10.1073/pnas.0400087101)\n"
   ]
  },
  {
   "cell_type": "code",
   "execution_count": 18,
   "metadata": {},
   "outputs": [],
   "source": [
    "# calculating the vertex strength of the nodes in the graph\n",
    "\n",
    "adj = (nx.adjacency_matrix(disease_projection)).todense()           # todense() is for making it into an actual matrix\n",
    "n = len(disease_projection.nodes)\n",
    "vertex_st = {}\n",
    "nodes = list(disease_projection.nodes)\n",
    "\n",
    "for i in nodes:                 \n",
    "    vertex_st[i] = 0\n",
    "    for j in nodes:\n",
    "        # try except block to prevent keyerror from trying to find non-existent edge. \n",
    "        try:\n",
    "            vertex_st[i] += disease_projection[i][j]['weight'] * adj[nodes.index(i)][nodes.index(j)]  \n",
    "        except KeyError:\n",
    "            pass\n",
    "\n",
    "vertex_st = vertex_st.items()\n",
    "# vertex_st is a variable which has tuples of the format (node_id, vertex_strength)"
   ]
  },
  {
   "cell_type": "code",
   "execution_count": 19,
   "metadata": {},
   "outputs": [
    {
     "data": {
      "text/html": [
       "<div>\n",
       "<style scoped>\n",
       "    .dataframe tbody tr th:only-of-type {\n",
       "        vertical-align: middle;\n",
       "    }\n",
       "\n",
       "    .dataframe tbody tr th {\n",
       "        vertical-align: top;\n",
       "    }\n",
       "\n",
       "    .dataframe thead th {\n",
       "        text-align: right;\n",
       "    }\n",
       "</style>\n",
       "<table border=\"1\" class=\"dataframe\">\n",
       "  <thead>\n",
       "    <tr style=\"text-align: right;\">\n",
       "      <th></th>\n",
       "      <th>disease ID</th>\n",
       "      <th>deg_cent</th>\n",
       "      <th>ev_cent</th>\n",
       "      <th>vertex_st</th>\n",
       "    </tr>\n",
       "  </thead>\n",
       "  <tbody>\n",
       "    <tr>\n",
       "      <th>0</th>\n",
       "      <td>C0028754</td>\n",
       "      <td>0.708494</td>\n",
       "      <td>0.084779</td>\n",
       "      <td>11823</td>\n",
       "    </tr>\n",
       "    <tr>\n",
       "      <th>1</th>\n",
       "      <td>C0032285</td>\n",
       "      <td>0.415058</td>\n",
       "      <td>0.059662</td>\n",
       "      <td>3156</td>\n",
       "    </tr>\n",
       "    <tr>\n",
       "      <th>2</th>\n",
       "      <td>C0005910</td>\n",
       "      <td>0.158301</td>\n",
       "      <td>0.022883</td>\n",
       "      <td>210</td>\n",
       "    </tr>\n",
       "    <tr>\n",
       "      <th>3</th>\n",
       "      <td>C0085129</td>\n",
       "      <td>0.245174</td>\n",
       "      <td>0.036276</td>\n",
       "      <td>544</td>\n",
       "    </tr>\n",
       "    <tr>\n",
       "      <th>4</th>\n",
       "      <td>C0007193</td>\n",
       "      <td>0.333977</td>\n",
       "      <td>0.049066</td>\n",
       "      <td>981</td>\n",
       "    </tr>\n",
       "  </tbody>\n",
       "</table>\n",
       "</div>"
      ],
      "text/plain": [
       "  disease ID  deg_cent   ev_cent  vertex_st\n",
       "0   C0028754  0.708494  0.084779      11823\n",
       "1   C0032285  0.415058  0.059662       3156\n",
       "2   C0005910  0.158301  0.022883        210\n",
       "3   C0085129  0.245174  0.036276        544\n",
       "4   C0007193  0.333977  0.049066        981"
      ]
     },
     "execution_count": 19,
     "metadata": {},
     "output_type": "execute_result"
    }
   ],
   "source": [
    "# combining all the data into a dataframe\n",
    "\n",
    "combined_data = pd.DataFrame(columns =['disease ID', 'deg_cent','ev_cent', 'vertex_st'])\n",
    "combined_data['disease ID'] = [i[0] for i in disease_ev_cents]\n",
    "combined_data['deg_cent'] = [i[1] for i in disease_dg_cents]\n",
    "combined_data['ev_cent'] = [i[1] for i in disease_ev_cents]\n",
    "combined_data['vertex_st'] = [i[1] for i in vertex_st]\n",
    "combined_data.head()"
   ]
  },
  {
   "cell_type": "code",
   "execution_count": 20,
   "metadata": {},
   "outputs": [],
   "source": [
    "# product score\n",
    "combined_data['product'] = combined_data.deg_cent * combined_data.ev_cent\n",
    "\n",
    "combined_data['ratio'] = combined_data.deg_cent/combined_data.ev_cent\n",
    "# Think of some other metric that can be used. "
   ]
  },
  {
   "cell_type": "code",
   "execution_count": 21,
   "metadata": {},
   "outputs": [
    {
     "data": {
      "image/png": "[encoded data removed]",
      "text/plain": [
       "<Figure size 640x480 with 1 Axes>"
      ]
     },
     "metadata": {},
     "output_type": "display_data"
    }
   ],
   "source": [
    "import matplotlib.pyplot as plt\n",
    "plt.hist(combined_data['vertex_st'], bins = 100)\n",
    "plt.xlabel('vertex strength')\n",
    "plt.show()\n",
    "\n",
    "# proper power law shizz\n",
    "# this can also be one of the observations we write\n",
    "# Think of some inferences to be drawn from the disease projection network being a power law network. \n",
    "# this also means we might get properly decent clusters (nice.)"
   ]
  },
  {
   "cell_type": "markdown",
   "metadata": {},
   "source": [
    "TODO: \n",
    "1. clustering using Louvain or Girvan Newman method (to get an idea of what are the major diseases and what are the rarer ones)       \n",
    "2. find overlapping neighbourhoods for pairs of diseases (try doing this using powers of adjacency matrix or local neighbourhood overlap algorithms)     \n",
    "3. find the weighted projection of the disease gene network on the disease space.      \n",
    "    - weights are defined as the number of genes connecting the two diseases.      \n",
    "    - weights will tell how strong the interrelation between the two diseases is.      \n",
    "    - edges with the highest weights will tell the inverse comorbidity relations.       "
   ]
  },
  {
   "cell_type": "code",
   "execution_count": 22,
   "metadata": {},
   "outputs": [
    {
     "data": {
      "text/plain": [
       "[('C0024668', 'C0024667', {'weight': 123}),\n",
       " ('C0151786', 'C0013080', {'weight': 80}),\n",
       " ('C0038356', 'C0242656', {'weight': 79}),\n",
       " ('C1458155', 'C0033578', {'weight': 75}),\n",
       " ('C1272641', 'C1271104', {'weight': 60})]"
      ]
     },
     "execution_count": 22,
     "metadata": {},
     "output_type": "execute_result"
    }
   ],
   "source": [
    "# sort the edges according to the weights\n",
    "sortededges = sorted(disease_projection.edges(data = True), key = lambda x: x[2]['weight'], reverse=True)\n",
    "top5 = sortededges[:5]\n",
    "top5"
   ]
  },
  {
   "cell_type": "code",
   "execution_count": 23,
   "metadata": {},
   "outputs": [
    {
     "data": {
      "text/plain": [
       "[('C0206754', 'C0021841', {'weight': 1}),\n",
       " ('C0037268', 'C0015393', {'weight': 1}),\n",
       " ('C0037268', 'C0023452', {'weight': 1}),\n",
       " ('C0015393', 'C0021841', {'weight': 1}),\n",
       " ('C0015393', 'C1955869', {'weight': 1}),\n",
       " ('C0497327', 'C0018995', {'weight': 1}),\n",
       " ('C0009952', 'C0014553', {'weight': 1}),\n",
       " ('C0265275', 'C0339527', {'weight': 1}),\n",
       " ('C0268237', 'C1838979', {'weight': 1}),\n",
       " ('C0270850', 'C0014553', {'weight': 1})]"
      ]
     },
     "execution_count": 23,
     "metadata": {},
     "output_type": "execute_result"
    }
   ],
   "source": [
    "# find the inverse comorbidity relations\n",
    "bottom10 = sortededges[-10:]\n",
    "bottom10\n",
    "\n",
    "# this has a lot of diseases that are not completely of genetic origin\n",
    "# we need to filter out those diseases that are purely genetic in origin and the remaining ones will be the ones that are genetically inversely comorbid"
   ]
  },
  {
   "cell_type": "code",
   "execution_count": 24,
   "metadata": {},
   "outputs": [
    {
     "data": {
      "text/html": [
       "<div>\n",
       "<style scoped>\n",
       "    .dataframe tbody tr th:only-of-type {\n",
       "        vertical-align: middle;\n",
       "    }\n",
       "\n",
       "    .dataframe tbody tr th {\n",
       "        vertical-align: top;\n",
       "    }\n",
       "\n",
       "    .dataframe thead th {\n",
       "        text-align: right;\n",
       "    }\n",
       "</style>\n",
       "<table border=\"1\" class=\"dataframe\">\n",
       "  <thead>\n",
       "    <tr style=\"text-align: right;\">\n",
       "      <th></th>\n",
       "      <th>Disease1</th>\n",
       "      <th>Disease2</th>\n",
       "      <th>Weight</th>\n",
       "    </tr>\n",
       "  </thead>\n",
       "  <tbody>\n",
       "    <tr>\n",
       "      <th>283</th>\n",
       "      <td>C0030567</td>\n",
       "      <td>C2239176</td>\n",
       "      <td>{'weight': 14}</td>\n",
       "    </tr>\n",
       "    <tr>\n",
       "      <th>284</th>\n",
       "      <td>C0030567</td>\n",
       "      <td>C0027746</td>\n",
       "      <td>{'weight': 14}</td>\n",
       "    </tr>\n",
       "    <tr>\n",
       "      <th>656</th>\n",
       "      <td>C0030567</td>\n",
       "      <td>C0002395</td>\n",
       "      <td>{'weight': 10}</td>\n",
       "    </tr>\n",
       "    <tr>\n",
       "      <th>657</th>\n",
       "      <td>C0030567</td>\n",
       "      <td>C0004352</td>\n",
       "      <td>{'weight': 10}</td>\n",
       "    </tr>\n",
       "    <tr>\n",
       "      <th>1066</th>\n",
       "      <td>C0030567</td>\n",
       "      <td>C0860207</td>\n",
       "      <td>{'weight': 8}</td>\n",
       "    </tr>\n",
       "    <tr>\n",
       "      <th>...</th>\n",
       "      <td>...</td>\n",
       "      <td>...</td>\n",
       "      <td>...</td>\n",
       "    </tr>\n",
       "    <tr>\n",
       "      <th>21176</th>\n",
       "      <td>C0030567</td>\n",
       "      <td>C0007787</td>\n",
       "      <td>{'weight': 1}</td>\n",
       "    </tr>\n",
       "    <tr>\n",
       "      <th>21177</th>\n",
       "      <td>C0030567</td>\n",
       "      <td>C1261473</td>\n",
       "      <td>{'weight': 1}</td>\n",
       "    </tr>\n",
       "    <tr>\n",
       "      <th>21178</th>\n",
       "      <td>C0030567</td>\n",
       "      <td>C0007138</td>\n",
       "      <td>{'weight': 1}</td>\n",
       "    </tr>\n",
       "    <tr>\n",
       "      <th>21179</th>\n",
       "      <td>C0030567</td>\n",
       "      <td>C0018798</td>\n",
       "      <td>{'weight': 1}</td>\n",
       "    </tr>\n",
       "    <tr>\n",
       "      <th>21180</th>\n",
       "      <td>C0030567</td>\n",
       "      <td>C0004763</td>\n",
       "      <td>{'weight': 1}</td>\n",
       "    </tr>\n",
       "  </tbody>\n",
       "</table>\n",
       "<p>210 rows × 3 columns</p>\n",
       "</div>"
      ],
      "text/plain": [
       "       Disease1  Disease2          Weight\n",
       "283    C0030567  C2239176  {'weight': 14}\n",
       "284    C0030567  C0027746  {'weight': 14}\n",
       "656    C0030567  C0002395  {'weight': 10}\n",
       "657    C0030567  C0004352  {'weight': 10}\n",
       "1066   C0030567  C0860207   {'weight': 8}\n",
       "...         ...       ...             ...\n",
       "21176  C0030567  C0007787   {'weight': 1}\n",
       "21177  C0030567  C1261473   {'weight': 1}\n",
       "21178  C0030567  C0007138   {'weight': 1}\n",
       "21179  C0030567  C0018798   {'weight': 1}\n",
       "21180  C0030567  C0004763   {'weight': 1}\n",
       "\n",
       "[210 rows x 3 columns]"
      ]
     },
     "execution_count": 24,
     "metadata": {},
     "output_type": "execute_result"
    }
   ],
   "source": [
    "sorted_data = pd.DataFrame(sortededges, columns = ['Disease1', 'Disease2', 'Weight'])\n",
    "sorted_data.loc[sorted_data['Disease1'] == 'C0030567']"
   ]
  },
  {
   "cell_type": "code",
   "execution_count": null,
   "metadata": {},
   "outputs": [],
   "source": []
  }
 ],
 "metadata": {
  "kernelspec": {
   "display_name": "Python 3",
   "language": "python",
   "name": "python3"
  },
  "language_info": {
   "codemirror_mode": {
    "name": "ipython",
    "version": 3
   },
   "file_extension": ".py",
   "mimetype": "text/x-python",
   "name": "python",
   "nbconvert_exporter": "python",
   "pygments_lexer": "ipython3",
   "version": "3.11.4"
  }
 },
 "nbformat": 4,
 "nbformat_minor": 2
}
